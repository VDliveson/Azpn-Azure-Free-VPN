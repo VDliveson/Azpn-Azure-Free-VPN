{
 "cells": [
  {
   "cell_type": "markdown",
   "metadata": {},
   "source": [
    "### Azpn : Azure VPN Free (For Students Plan)\n",
    "_Premise: Azure student plan gives students a good 100 dollars starter credits yearly, we can use this quota to provide ourself with very cheap but useful VPN Server_\n",
    "\n",
    "__Whatchu Need?__\n",
    "\n",
    "A student email id (with .edu ending in last) and verified azure student account, If you are a student and signup to azure, It gives you 100\\\\$ per year until you graduate! So simply exploiting this loophole and deploying server using those 100\\\\$ of free creds is what Azpn do! Most people would never even use Azure much, if you don't mind using some of your credits for a free secure VPN then continue reading! :)"
   ]
  },
  {
   "cell_type": "markdown",
   "metadata": {},
   "source": [
    "## Helper functions"
   ]
  },
  {
   "cell_type": "code",
   "execution_count": null,
   "metadata": {},
   "outputs": [],
   "source": [
    "import sys\n",
    "import subprocess\n",
    "\n",
    "def execute(command):\n",
    "    process = subprocess.Popen(command, shell=True, stdout=subprocess.PIPE, stderr=subprocess.STDOUT)\n",
    "    # Poll process for new output until finished\n",
    "    r = \"\"\n",
    "    while True:\n",
    "        nextline = process.stdout.readline()\n",
    "        if not nextline and process.poll() is not None:\n",
    "            break\n",
    "        r += nextline.decode(\"utf-8\") .strip() + \" \"\n",
    "        sys.stdout.write(str(nextline))\n",
    "        sys.stdout.flush()\n",
    "\n",
    "    output = process.communicate()[0]\n",
    "    exitCode = process.returncode\n",
    "\n",
    "    if (exitCode == 0):\n",
    "        return r\n",
    "    else:\n",
    "        print(\"error?\")\n",
    "        \n",
    "        \n",
    "from IPython.display import Markdown, display\n",
    "def printmd(string):\n",
    "    display(Markdown(string))\n",
    "    \n",
    "def generate_temp_password(length):\n",
    "    if not isinstance(length, int) or length < 8:\n",
    "        raise ValueError(\"temp password must have positive length\")\n",
    "\n",
    "    chars = \"@ABCDEFGHJKLMNPQRSTUVWXYZ23456789abcdefghijklmnopqrstuvwxyz@\"\n",
    "    from os import urandom\n",
    "\n",
    "    # original Python 2 (urandom returns str)\n",
    "    # return \"\".join(chars[ord(c) % len(chars)] for c in urandom(length))\n",
    "\n",
    "    # Python 3 (urandom returns bytes)\n",
    "    return \"\".join(chars[c % len(chars)] for c in urandom(length))\n",
    "\n",
    "def downloadFile(fname):\n",
    "    stdin,stdout,stderr=ssh.exec_command(\"sudo cat /home/%s/%s\"%(ADMIN_USERNAME, fname))\n",
    "    outlines=stdout.readlines()\n",
    "    resp=''.join(outlines)\n",
    "    print(resp)\n",
    "\n",
    "    with open(fname, 'w') as file:\n",
    "        file.write(resp)"
   ]
  },
  {
   "cell_type": "markdown",
   "metadata": {},
   "source": [
    "### Global Configs"
   ]
  },
  {
   "cell_type": "code",
   "execution_count": null,
   "metadata": {},
   "outputs": [],
   "source": [
    "import uuid\n",
    "import secrets\n",
    "import string\n",
    "\n",
    "RESOURCE_GROUP_NAME = \"azpn_group\"\n",
    "VM_INSTANCE_NAME = \"azpn_instance001\"\n",
    "MACHINE_NAME = \"Standard_B1ls\" # Cheapest, Scale\n",
    "ADMIN_USERNAME = \"azpn\"\n",
    "ADMIN_PASSWORD = generate_temp_password(48) # Unique one time password"
   ]
  },
  {
   "cell_type": "code",
   "execution_count": null,
   "metadata": {},
   "outputs": [],
   "source": [
    "printmd(\"__Admin password generated, please save this somewhere or you risk losing access to your virtual machine__\")\n",
    "printmd(\"PASSWORD IS __%s__\"%(ADMIN_PASSWORD))"
   ]
  },
  {
   "cell_type": "markdown",
   "metadata": {},
   "source": [
    "### Start\n",
    "_login azure-cli_"
   ]
  },
  {
   "cell_type": "code",
   "execution_count": null,
   "metadata": {},
   "outputs": [],
   "source": [
    "x = execute(\"az login\")\n",
    "if(\"Azure for Students\" not in x):\n",
    "    printmd(\"**Wrong account? Couldn't find azure students plan or cannot login to service, try again!**\")"
   ]
  },
  {
   "cell_type": "markdown",
   "metadata": {},
   "source": [
    "__Get all resource regions (ie VPN Region)__"
   ]
  },
  {
   "cell_type": "code",
   "execution_count": null,
   "metadata": {},
   "outputs": [],
   "source": [
    "locs = execute('az account list-locations --query \"[].{DisplayName:displayName, Name:name}\" -o table')"
   ]
  },
  {
   "cell_type": "markdown",
   "metadata": {},
   "source": [
    "__Input your preferred region__"
   ]
  },
  {
   "cell_type": "code",
   "execution_count": null,
   "metadata": {},
   "outputs": [],
   "source": [
    "def reg():\n",
    "    r = input(\"Enter your preferred region (default-centralindia): \") or \"centralindia\"\n",
    "    if(\"            \" + r + \" \" not in locs):\n",
    "        print(\"Invalid/Bad region, enter again.\")\n",
    "        reg()\n",
    "    else:\n",
    "        return r\n",
    "\n",
    "REGION = reg()\n",
    "printmd(\"_Selected region: %s_\"%(REGION))"
   ]
  },
  {
   "cell_type": "markdown",
   "metadata": {},
   "source": [
    "_Create resource group for VM and other resources_"
   ]
  },
  {
   "cell_type": "code",
   "execution_count": null,
   "metadata": {},
   "outputs": [],
   "source": [
    "x = execute(\"az group create --name %s --location %s --tags USE=AZPN -o table\"%(RESOURCE_GROUP_NAME, REGION))"
   ]
  },
  {
   "cell_type": "code",
   "execution_count": null,
   "metadata": {},
   "outputs": [],
   "source": [
    "c = \"\"\"az vm create\n",
    "    --resource-group %s\n",
    "    --name %s\n",
    "    --size %s\n",
    "    --image Canonical:0001-com-ubuntu-server-focal:20_04-lts:latest\n",
    "    --public-ip-sku Basic\n",
    "    --public-ip-address-allocation dynamic\n",
    "    --admin-username %s\n",
    "    --admin-password %s\n",
    "    --storage-sku Standard_LRS\n",
    "    --location %s\n",
    "    --data-disk-delete-option Delete\n",
    "    --nic-delete-option Delete\n",
    "    --data-disk-delete-option Delete\n",
    "    -o json\"\"\" % (RESOURCE_GROUP_NAME, VM_INSTANCE_NAME, MACHINE_NAME,ADMIN_USERNAME, ADMIN_PASSWORD, REGION)\n",
    "print(c)\n",
    "x = execute(c.replace(\"\\n\",\"\"))"
   ]
  },
  {
   "cell_type": "code",
   "execution_count": null,
   "metadata": {},
   "outputs": [],
   "source": [
    "import json\n",
    "vm_data = json.loads(x)\n",
    "if('publicIpAddress' not in vm_data):\n",
    "    printmd(\"__Cannot find public ip address of vm, creation problem perhaps?__\")"
   ]
  },
  {
   "cell_type": "code",
   "execution_count": null,
   "metadata": {},
   "outputs": [],
   "source": [
    "print(vm_data)"
   ]
  },
  {
   "cell_type": "code",
   "execution_count": null,
   "metadata": {},
   "outputs": [],
   "source": [
    "SSH_IP = vm_data[\"publicIpAddress\"]\n",
    "# SSH_IP = \"20.207.202.196\"\n",
    "# ADMIN_PASSWORD = \"passs\"\n",
    "SSH_PORT = 22\n",
    "\n",
    "printmd(\"__Connecting to %s:%s__\"%(SSH_IP, SSH_PORT))\n",
    "\n",
    "import paramiko\n",
    "ssh = paramiko.SSHClient()\n",
    "ssh.set_missing_host_key_policy(paramiko.AutoAddPolicy())\n",
    "ssh.connect(SSH_IP,SSH_PORT,ADMIN_USERNAME,ADMIN_PASSWORD)\n",
    "\n",
    "printmd(\"__Connected! Upgrading packages.. (might take a while)__\")"
   ]
  },
  {
   "cell_type": "code",
   "execution_count": null,
   "metadata": {},
   "outputs": [],
   "source": [
    "stdin,stdout,stderr=ssh.exec_command(\"sudo apt-get update -y && sudo apt-get upgrade -y\")\n",
    "outlines=stdout.readlines()\n",
    "resp=''.join(outlines)\n",
    "print(resp)"
   ]
  },
  {
   "cell_type": "markdown",
   "metadata": {},
   "source": [
    "_Download openvpn-install.sh file_"
   ]
  },
  {
   "cell_type": "code",
   "execution_count": null,
   "metadata": {},
   "outputs": [],
   "source": [
    "_, _, _ = ssh.exec_command(\"curl -O https://raw.githubusercontent.com/angristan/openvpn-install/master/openvpn-install.sh && chmod +x openvpn-install.sh\")"
   ]
  },
  {
   "cell_type": "code",
   "execution_count": null,
   "metadata": {},
   "outputs": [],
   "source": [
    "stdin,stdout,stderr=ssh.exec_command(\"sudo AUTO_INSTALL=y PORT_CHOICE=2 PORT=443 PROTOCOL_CHOICE=2 ./openvpn-install.sh\")\n",
    "outlines=stdout.readlines()\n",
    "opnout=''.join(outlines)\n",
    "print(opnout)"
   ]
  },
  {
   "cell_type": "code",
   "execution_count": null,
   "metadata": {},
   "outputs": [],
   "source": [
    "if not \"The configuration file has been written to\" in opnout:\n",
    "    printmd(\"__Error in installation or whaat?__\")\n",
    "\n",
    "printmd(\"__Downloading client.ovpn for connection!__\")\n",
    "downloadFile(\"client.ovpn\")    \n",
    "printmd(\"__Downloaded! Enjoy!! :P__\")"
   ]
  },
  {
   "cell_type": "markdown",
   "metadata": {},
   "source": [
    "### Lastly open 443 port for our VPN"
   ]
  },
  {
   "cell_type": "code",
   "execution_count": null,
   "metadata": {},
   "outputs": [],
   "source": [
    "x = execute(\"az vm open-port --resource-group %s --name %s --port 443\"%(RESOURCE_GROUP_NAME, VM_INSTANCE_NAME))"
   ]
  },
  {
   "cell_type": "markdown",
   "metadata": {},
   "source": [
    "## SUCCESS"
   ]
  },
  {
   "cell_type": "markdown",
   "metadata": {},
   "source": [
    "If you reached here, it mean's you have successfully deployed a working VPN on your azure server! Now what? Simply Install latest openvpn client and connect to profile _client.ovpn_(in same directory)!\n",
    "\n",
    "_Also, if you ever want to save your creds by deleting everything azpn has done until now, then execute commands in next catalog (3), namely azpn_remove_all, It will undo any changes made by this script!_"
   ]
  },
  {
   "cell_type": "markdown",
   "metadata": {},
   "source": [
    "# Bonus\n",
    "What if you want to share your created VPN with multiple users? Well don't worry, this bonus section is for those people wanting to generate more than one profiles for openvpn, So as to share it with their friends without them needing to install anything!"
   ]
  },
  {
   "cell_type": "code",
   "execution_count": null,
   "metadata": {},
   "outputs": [],
   "source": [
    "def no():\n",
    "    try:\n",
    "        x = int(input(\"How many profiles to generate?\"))\n",
    "        return x\n",
    "    except:\n",
    "        print(\"Invalid input, enter a number!\")\n",
    "        return no()\n",
    "    \n",
    "PROFILE_NO = no()\n",
    "for i in range(PROFILE_NO):\n",
    "    confName = \"client{}\".format(i+1)\n",
    "    cmd = 'sudo MENU_OPTION=\"1\" CLIENT=\"%s\" PASS=\"1\" ./openvpn-install.sh'%(confName)\n",
    "    print(cmd)\n",
    "    stdin,stdout,stderr=ssh.exec_command(cmd)\n",
    "    outlines=stdout.readlines()\n",
    "    resp=''.join(outlines)\n",
    "    print(resp)\n",
    "    downloadFile(\"%s.ovpn\"%(confName))    "
   ]
  },
  {
   "cell_type": "code",
   "execution_count": null,
   "metadata": {},
   "outputs": [],
   "source": []
  }
 ],
 "metadata": {
  "kernelspec": {
   "display_name": "Python 3",
   "language": "python",
   "name": "python3"
  },
  "language_info": {
   "codemirror_mode": {
    "name": "ipython",
    "version": 3
   },
   "file_extension": ".py",
   "mimetype": "text/x-python",
   "name": "python",
   "nbconvert_exporter": "python",
   "pygments_lexer": "ipython3",
   "version": "3.9.7"
  }
 },
 "nbformat": 4,
 "nbformat_minor": 4
}
