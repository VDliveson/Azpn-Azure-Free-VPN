{
 "cells": [
  {
   "cell_type": "markdown",
   "metadata": {},
   "source": [
    "## ABOUT ME\n",
    "Just a simple enthusiast tryna make something!\n",
    "\n",
    "_This project was meant to solve the sketchy/shady VPN we get nowadays, through free these services leak lots of data and are very insecure, So to have a free good and self hosted vpn service is what this project accomplish_\n",
    "\n",
    "__Whoami?__\n",
    "A simple developer and anime/manga weeb! Contact me using:  \n",
    "Discord - [Agent_Orange#9852](https://discordapp.com/users/364288119345905664)  \n",
    "Email - [hari01584@gmail.com](mailto:hari01584@gmail.com)  \n",
    "\n",
    "Now comes most important part! _Credits_\n",
    "\n",
    "## Credits\n",
    "_Kudos to these people/projects/tutorials/resource/etc for being a great help!_\n",
    "- Raghav Tinker for his original idea - [his github profile](https://github.com/raghavTinker)\n",
    "- Azure for its wonderful students plan! - [azure portal link](https://portal.azure.com/)\n",
    "- https://github.com/angristan/openvpn-install\n",
    "- __MANY MORE TO BE ADDED LATER__\n",
    "\n",
    "## What after this?\n",
    "Thanks for wasting your time reading all this, really appreciated! Now starting with the project open and execute *1. azpn_setup_depedencies.ipynb* notebook after this (only to be done one time)!"
   ]
  }
 ],
 "metadata": {
  "kernelspec": {
   "display_name": "Python 3",
   "language": "python",
   "name": "python3"
  },
  "language_info": {
   "codemirror_mode": {
    "name": "ipython",
    "version": 3
   },
   "file_extension": ".py",
   "mimetype": "text/x-python",
   "name": "python",
   "nbconvert_exporter": "python",
   "pygments_lexer": "ipython3",
   "version": "3.8.5"
  }
 },
 "nbformat": 4,
 "nbformat_minor": 4
}
